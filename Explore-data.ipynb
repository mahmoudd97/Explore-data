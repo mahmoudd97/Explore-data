{
 "cells": [
  {
   "cell_type": "code",
   "execution_count": 1,
   "metadata": {},
   "outputs": [
    {
     "name": "stdout",
     "output_type": "stream",
     "text": [
      "choose file type: csv-excel-json\n",
      "csv\n",
      "enter file name with extantion\n",
      "new_york_city.csv\n",
      "total missing values in data\n",
      "\n",
      "\n",
      " Unnamed: 0           0\n",
      "Start Time           0\n",
      "End Time             0\n",
      "Trip Duration        0\n",
      "Start Station        0\n",
      "End Station          0\n",
      "User Type          692\n",
      "Gender           29209\n",
      "Birth Year       28220\n",
      "dtype: int64\n",
      "************************************************************\n",
      "\n",
      "\n",
      "check data missing values\n",
      "\n",
      "\n",
      "\n",
      " Unnamed: 0       0\n",
      "Start Time       0\n",
      "End Time         0\n",
      "Trip Duration    0\n",
      "Start Station    0\n",
      "End Station      0\n",
      "User Type        0\n",
      "Gender           0\n",
      "Birth Year       0\n",
      "dtype: int64 \n",
      "\n",
      "\n",
      "************************************************************\n",
      "Choose the type of summary you want:\n",
      " { data info,Data for the first ten rows,Description of data,data shape}Data for the first ten rows\n",
      "************************************************************\n",
      "Do you want to see another type of data?\n",
      ":yes or no \n",
      "no\n",
      "************************************************************\n",
      "Hello! Let's explore some US data!\n",
      "\n",
      "Would you like to restart? Enter yes or no.\n",
      "no\n"
     ]
    }
   ],
   "source": [
    "#Import the libraries needed to contribute\n",
    "import pandas as pd\n",
    "import numpy as np\n",
    "import matplotlib as plt\n",
    "file_types=['csv','excel','json']\n",
    "#A function to determine the file type and its readings\n",
    "def read_data():\n",
    "    file_type=str(input('choose file type: csv-excel-json\\n').lower())\n",
    "    while file_type not in file_types:\n",
    "        print('choose correct type\\n')\n",
    "        file_type=str(input('choose file type: csv-excel-json\\n').lower())\n",
    "    else:name_file=input('enter file name with extantion\\n')\n",
    "    if file_type=='csv':\n",
    "        df=pd.read_csv(name_file)\n",
    "        return df\n",
    "    elif file_type=='excel':\n",
    "        df=pd.read_excel(name_file)\n",
    "        return df\n",
    "    elif file_type=='json':\n",
    "        df=pd.read_json(name_file)\n",
    "        return df\n",
    "    print('*'*60)\n",
    "#Function to handle missing values    \n",
    "def Missing_Values(df):\n",
    "    Sum_Missing_Values=np.sum(df.isnull())\n",
    "    print('Total missing values in data\\n',Sum_Missing_Values)\n",
    "    print('*'*60)\n",
    "    data=df.dropna()\n",
    "    remove_missing_values=np.sum(data.isnull())\n",
    "    print('\\n\\nrecheck data missing values:\\n',remove_missing_values,'\\n\\n')\n",
    "    print('*'*60)\n",
    "    return data \n",
    "#Function to extract a statistical summary of data\n",
    "def summarie_data(data):\n",
    "    summaries =['Data for the first ten rows','data info','Description of data','data shape']\n",
    "    summarie=input('Choose the type of summary you want:\\n{ data info,Data for the first ten rows,Description of data,data shape}')\n",
    "   \n",
    "    while summarie not in summaries:\n",
    "        print('wrong entry\\n')\n",
    "        summarie=input('Choose the type of summary you want:\\n{data info,Data for the first ten rows,Description of data,data shape}\\n')\n",
    "    \n",
    "    if summarie=='Data for the first ten rows':\n",
    "        data.head(10)\n",
    "    if summarie=='data info':\n",
    "        data.info()     \n",
    "    if summarie=='Description of data':\n",
    "        data.describe()\n",
    "    if summarie=='data shape':\n",
    "        data.shape\n",
    "    print('*'*60)\n",
    "#A function to extract another type of statistical summary available for the data\n",
    "def other_summarie(data):\n",
    "    other=['yes','no']\n",
    "    choose=input('Do you want to see another type of data?\\n:yes or no \\n').lower()\n",
    "    \n",
    "    while choose not in other:\n",
    "        print('wrong entry\\n')\n",
    "        choose=input('Do you want to see another type of data?\\n:yes or no \\n').lower()\n",
    "    else:\n",
    "        while choose=='yes':\n",
    "            if choose!='no':\n",
    "                summarie_data(data)\n",
    "                choose=input('Do you want to see another type of data?\\n:yes or no \\n').lower()\n",
    "    print('*'*60)\n",
    "def main():\n",
    "    \n",
    "    while True:\n",
    "        df= read_data()\n",
    "        data=Missing_Values(df)\n",
    "        summarie_data(data)\n",
    "        other_summarie(data)\n",
    "      \n",
    "        \n",
    "        print('Hello! Let\\'s explore some US data!')\n",
    "\n",
    "        restart = input('\\nWould you like to restart? Enter yes or no.\\n')\n",
    "        if restart.lower() != 'yes':\n",
    "            break\n",
    "            print('*'*60)\n",
    "\n",
    "\n",
    "if __name__ == \"__main__\":\n",
    "\tmain()\n",
    "\n",
    "\n"
   ]
  },
  {
   "cell_type": "code",
   "execution_count": 3,
   "metadata": {},
   "outputs": [
    {
     "data": {
      "text/plain": [
       "1"
      ]
     },
     "execution_count": 3,
     "metadata": {},
     "output_type": "execute_result"
    }
   ],
   "source": [
    "file_types=['csv','excel','json']\n",
    "\n",
    "m=1\n",
    "while 'csv' not in file_types:\n",
    "    \n",
    "    m=print('0')\n",
    "    \n",
    "m"
   ]
  },
  {
   "cell_type": "code",
   "execution_count": 7,
   "metadata": {},
   "outputs": [
    {
     "name": "stdout",
     "output_type": "stream",
     "text": [
      "0\n"
     ]
    }
   ],
   "source": [
    "file_types=['csv','excel','json']\n",
    "x='new_york_city.csv'\n",
    "s=x.split('.')[1]\n",
    "\n",
    "if s in file_types:\n",
    "    print(0)\n",
    "else:\n",
    "    print(1)"
   ]
  },
  {
   "cell_type": "code",
   "execution_count": null,
   "metadata": {},
   "outputs": [],
   "source": [
    "x='new_york_city.csv'\n",
    "s=x.split('.')[1]\n"
   ]
  }
 ],
 "metadata": {
  "kernelspec": {
   "display_name": "Python 3",
   "language": "python",
   "name": "python3"
  },
  "language_info": {
   "codemirror_mode": {
    "name": "ipython",
    "version": 3
   },
   "file_extension": ".py",
   "mimetype": "text/x-python",
   "name": "python",
   "nbconvert_exporter": "python",
   "pygments_lexer": "ipython3",
   "version": "3.7.6"
  }
 },
 "nbformat": 4,
 "nbformat_minor": 4
}
